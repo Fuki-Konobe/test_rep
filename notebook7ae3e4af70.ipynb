{
 "cells": [
  {
   "cell_type": "code",
   "execution_count": 1,
   "id": "c6162ff4",
   "metadata": {
    "_cell_guid": "b1076dfc-b9ad-4769-8c92-a6c4dae69d19",
    "_uuid": "8f2839f25d086af736a60e9eeb907d3b93b6e0e5",
    "execution": {
     "iopub.execute_input": "2025-02-25T19:36:23.929001Z",
     "iopub.status.busy": "2025-02-25T19:36:23.928606Z",
     "iopub.status.idle": "2025-02-25T19:36:24.987725Z",
     "shell.execute_reply": "2025-02-25T19:36:24.985819Z"
    },
    "papermill": {
     "duration": 1.06812,
     "end_time": "2025-02-25T19:36:24.990442",
     "exception": false,
     "start_time": "2025-02-25T19:36:23.922322",
     "status": "completed"
    },
    "tags": []
   },
   "outputs": [
    {
     "name": "stdout",
     "output_type": "stream",
     "text": [
      "/kaggle/input/playground-series-s5e2/sample_submission.csv\n",
      "/kaggle/input/playground-series-s5e2/train.csv\n",
      "/kaggle/input/playground-series-s5e2/test.csv\n",
      "/kaggle/input/playground-series-s5e2/training_extra.csv\n"
     ]
    }
   ],
   "source": [
    "# This Python 3 environment comes with many helpful analytics libraries installed\n",
    "# It is defined by the kaggle/python Docker image: https://github.com/kaggle/docker-python\n",
    "# For example, here's several helpful packages to load\n",
    "\n",
    "import numpy as np # linear algebra\n",
    "import pandas as pd # data processing, CSV file I/O (e.g. pd.read_csv)\n",
    "\n",
    "# Input data files are available in the read-only \"../input/\" directory\n",
    "# For example, running this (by clicking run or pressing Shift+Enter) will list all files under the input directory\n",
    "\n",
    "import os\n",
    "for dirname, _, filenames in os.walk('/kaggle/input'):\n",
    "    for filename in filenames:\n",
    "        print(os.path.join(dirname, filename))\n",
    "\n",
    "# You can write up to 20GB to the current directory (/kaggle/working/) that gets preserved as output when you create a version using \"Save & Run All\" \n",
    "# You can also write temporary files to /kaggle/temp/, but they won't be saved outside of the current session"
   ]
  },
  {
   "cell_type": "code",
   "execution_count": 2,
   "id": "536f6206",
   "metadata": {
    "execution": {
     "iopub.execute_input": "2025-02-25T19:36:25.003045Z",
     "iopub.status.busy": "2025-02-25T19:36:25.002287Z",
     "iopub.status.idle": "2025-02-25T19:36:27.373687Z",
     "shell.execute_reply": "2025-02-25T19:36:27.372514Z"
    },
    "papermill": {
     "duration": 2.379914,
     "end_time": "2025-02-25T19:36:27.375894",
     "exception": false,
     "start_time": "2025-02-25T19:36:24.995980",
     "status": "completed"
    },
    "tags": []
   },
   "outputs": [],
   "source": [
    "# ライブラリのインポート\n",
    "import pandas as pd\n",
    "from sklearn.model_selection import train_test_split\n",
    "from sklearn.ensemble import RandomForestRegressor\n",
    "from sklearn.metrics import mean_squared_error\n",
    "from sklearn.impute import SimpleImputer"
   ]
  },
  {
   "cell_type": "code",
   "execution_count": 3,
   "id": "2ef26912",
   "metadata": {
    "execution": {
     "iopub.execute_input": "2025-02-25T19:36:27.386720Z",
     "iopub.status.busy": "2025-02-25T19:36:27.386033Z",
     "iopub.status.idle": "2025-02-25T19:36:28.785860Z",
     "shell.execute_reply": "2025-02-25T19:36:28.784311Z"
    },
    "papermill": {
     "duration": 1.407293,
     "end_time": "2025-02-25T19:36:28.787878",
     "exception": false,
     "start_time": "2025-02-25T19:36:27.380585",
     "status": "completed"
    },
    "tags": []
   },
   "outputs": [
    {
     "name": "stdout",
     "output_type": "stream",
     "text": [
      "Train Data Head:\n",
      "   id         Brand Material    Size  Compartments Laptop Compartment  \\\n",
      "0   0      Jansport  Leather  Medium           7.0                Yes   \n",
      "1   1      Jansport   Canvas   Small          10.0                Yes   \n",
      "2   2  Under Armour  Leather   Small           2.0                Yes   \n",
      "3   3          Nike    Nylon   Small           8.0                Yes   \n",
      "4   4        Adidas   Canvas  Medium           1.0                Yes   \n",
      "\n",
      "  Waterproof      Style  Color  Weight Capacity (kg)      Price  \n",
      "0         No       Tote  Black             11.611723  112.15875  \n",
      "1        Yes  Messenger  Green             27.078537   68.88056  \n",
      "2         No  Messenger    Red             16.643760   39.17320  \n",
      "3         No  Messenger  Green             12.937220   80.60793  \n",
      "4        Yes  Messenger  Green             17.749338   86.02312  \n",
      "Test Data Head:\n",
      "       id   Brand Material    Size  Compartments Laptop Compartment  \\\n",
      "0  300000    Puma  Leather   Small           2.0                 No   \n",
      "1  300001    Nike   Canvas  Medium           7.0                 No   \n",
      "2  300002  Adidas   Canvas   Large           9.0                 No   \n",
      "3  300003  Adidas    Nylon   Large           1.0                Yes   \n",
      "4  300004     NaN    Nylon   Large           2.0                Yes   \n",
      "\n",
      "  Waterproof      Style  Color  Weight Capacity (kg)  \n",
      "0         No       Tote  Green             20.671147  \n",
      "1        Yes   Backpack  Green             13.564105  \n",
      "2        Yes  Messenger   Blue             11.809799  \n",
      "3         No  Messenger  Green             18.477036  \n",
      "4        Yes       Tote  Black              9.907953  \n"
     ]
    }
   ],
   "source": [
    "# データの読み込み\n",
    "train_df = pd.read_csv('/kaggle/input/playground-series-s5e2/train.csv')\n",
    "test_df = pd.read_csv('/kaggle/input/playground-series-s5e2/test.csv')\n",
    "print(\"Train Data Head:\")\n",
    "print(train_df.head())\n",
    "print(\"Test Data Head:\")\n",
    "print(test_df.head())"
   ]
  },
  {
   "cell_type": "code",
   "execution_count": 4,
   "id": "9ed63d04",
   "metadata": {
    "execution": {
     "iopub.execute_input": "2025-02-25T19:36:28.798477Z",
     "iopub.status.busy": "2025-02-25T19:36:28.798077Z",
     "iopub.status.idle": "2025-02-25T19:36:28.910949Z",
     "shell.execute_reply": "2025-02-25T19:36:28.909813Z"
    },
    "papermill": {
     "duration": 0.120538,
     "end_time": "2025-02-25T19:36:28.913068",
     "exception": false,
     "start_time": "2025-02-25T19:36:28.792530",
     "status": "completed"
    },
    "tags": []
   },
   "outputs": [
    {
     "name": "stdout",
     "output_type": "stream",
     "text": [
      "Missing Values in Train Data:\n",
      "id                         0\n",
      "Brand                   9705\n",
      "Material                8347\n",
      "Size                    6595\n",
      "Compartments               0\n",
      "Laptop Compartment      7444\n",
      "Waterproof              7050\n",
      "Style                   7970\n",
      "Color                   9950\n",
      "Weight Capacity (kg)     138\n",
      "Price                      0\n",
      "dtype: int64\n"
     ]
    }
   ],
   "source": [
    "# 欠損値の確認\n",
    "print(\"Missing Values in Train Data:\")\n",
    "print(train_df.isnull().sum())"
   ]
  },
  {
   "cell_type": "code",
   "execution_count": 5,
   "id": "429df97d",
   "metadata": {
    "execution": {
     "iopub.execute_input": "2025-02-25T19:36:28.923366Z",
     "iopub.status.busy": "2025-02-25T19:36:28.922974Z",
     "iopub.status.idle": "2025-02-25T19:36:28.950405Z",
     "shell.execute_reply": "2025-02-25T19:36:28.949149Z"
    },
    "papermill": {
     "duration": 0.034418,
     "end_time": "2025-02-25T19:36:28.952090",
     "exception": false,
     "start_time": "2025-02-25T19:36:28.917672",
     "status": "completed"
    },
    "tags": []
   },
   "outputs": [
    {
     "name": "stdout",
     "output_type": "stream",
     "text": [
      "Numeric Features: Index(['id', 'Compartments', 'Weight Capacity (kg)', 'Price'], dtype='object')\n",
      "Categorical Features: Index(['Brand', 'Material', 'Size', 'Laptop Compartment', 'Waterproof',\n",
      "       'Style', 'Color'],\n",
      "      dtype='object')\n"
     ]
    }
   ],
   "source": [
    "# 数値データとカテゴリカルデータの分離\n",
    "numeric_features = train_df.select_dtypes(include=['int64', 'float64']).columns\n",
    "categorical_features = train_df.select_dtypes(include=['object']).columns\n",
    "print(\"Numeric Features:\", numeric_features)\n",
    "print(\"Categorical Features:\", categorical_features)"
   ]
  },
  {
   "cell_type": "code",
   "execution_count": 6,
   "id": "0a2383e7",
   "metadata": {
    "execution": {
     "iopub.execute_input": "2025-02-25T19:36:28.963145Z",
     "iopub.status.busy": "2025-02-25T19:36:28.962820Z",
     "iopub.status.idle": "2025-02-25T19:36:28.969116Z",
     "shell.execute_reply": "2025-02-25T19:36:28.968134Z"
    },
    "papermill": {
     "duration": 0.013748,
     "end_time": "2025-02-25T19:36:28.970814",
     "exception": false,
     "start_time": "2025-02-25T19:36:28.957066",
     "status": "completed"
    },
    "tags": []
   },
   "outputs": [],
   "source": [
    "# 'Price' 列を numeric_features から除外\n",
    "numeric_features = numeric_features.drop('Price')"
   ]
  },
  {
   "cell_type": "code",
   "execution_count": 7,
   "id": "4879a71f",
   "metadata": {
    "execution": {
     "iopub.execute_input": "2025-02-25T19:36:28.981466Z",
     "iopub.status.busy": "2025-02-25T19:36:28.981059Z",
     "iopub.status.idle": "2025-02-25T19:36:29.052019Z",
     "shell.execute_reply": "2025-02-25T19:36:29.050345Z"
    },
    "papermill": {
     "duration": 0.078543,
     "end_time": "2025-02-25T19:36:29.054111",
     "exception": false,
     "start_time": "2025-02-25T19:36:28.975568",
     "status": "completed"
    },
    "tags": []
   },
   "outputs": [
    {
     "name": "stdout",
     "output_type": "stream",
     "text": [
      "Train Data after Imputation:\n",
      "    id         Brand Material    Size  Compartments Laptop Compartment  \\\n",
      "0  0.0      Jansport  Leather  Medium           7.0                Yes   \n",
      "1  1.0      Jansport   Canvas   Small          10.0                Yes   \n",
      "2  2.0  Under Armour  Leather   Small           2.0                Yes   \n",
      "3  3.0          Nike    Nylon   Small           8.0                Yes   \n",
      "4  4.0        Adidas   Canvas  Medium           1.0                Yes   \n",
      "\n",
      "  Waterproof      Style  Color  Weight Capacity (kg)      Price  \n",
      "0         No       Tote  Black             11.611723  112.15875  \n",
      "1        Yes  Messenger  Green             27.078537   68.88056  \n",
      "2         No  Messenger    Red             16.643760   39.17320  \n",
      "3         No  Messenger  Green             12.937220   80.60793  \n",
      "4        Yes  Messenger  Green             17.749338   86.02312  \n"
     ]
    }
   ],
   "source": [
    "# 数値データの欠損値処理\n",
    "imputer = SimpleImputer(strategy='mean')\n",
    "train_df[numeric_features] = imputer.fit_transform(train_df[numeric_features])\n",
    "test_df[numeric_features] = imputer.transform(test_df[numeric_features])\n",
    "print(\"Train Data after Imputation:\")\n",
    "print(train_df.head())"
   ]
  },
  {
   "cell_type": "code",
   "execution_count": 8,
   "id": "ffe12161",
   "metadata": {
    "execution": {
     "iopub.execute_input": "2025-02-25T19:36:29.065530Z",
     "iopub.status.busy": "2025-02-25T19:36:29.065118Z",
     "iopub.status.idle": "2025-02-25T19:36:29.473419Z",
     "shell.execute_reply": "2025-02-25T19:36:29.472023Z"
    },
    "papermill": {
     "duration": 0.416561,
     "end_time": "2025-02-25T19:36:29.475448",
     "exception": false,
     "start_time": "2025-02-25T19:36:29.058887",
     "status": "completed"
    },
    "tags": []
   },
   "outputs": [
    {
     "name": "stdout",
     "output_type": "stream",
     "text": [
      "Train Data after One-Hot Encoding:\n",
      "    id  Compartments  Weight Capacity (kg)      Price  Brand_Adidas  \\\n",
      "0  0.0           7.0             11.611723  112.15875         False   \n",
      "1  1.0          10.0             27.078537   68.88056         False   \n",
      "2  2.0           2.0             16.643760   39.17320         False   \n",
      "3  3.0           8.0             12.937220   80.60793         False   \n",
      "4  4.0           1.0             17.749338   86.02312          True   \n",
      "\n",
      "   Brand_Jansport  Brand_Nike  Brand_Puma  Brand_Under Armour  \\\n",
      "0            True       False       False               False   \n",
      "1            True       False       False               False   \n",
      "2           False       False       False                True   \n",
      "3           False        True       False               False   \n",
      "4           False       False       False               False   \n",
      "\n",
      "   Material_Canvas  ...  Waterproof_Yes  Style_Backpack  Style_Messenger  \\\n",
      "0            False  ...           False           False            False   \n",
      "1             True  ...            True           False             True   \n",
      "2            False  ...           False           False             True   \n",
      "3            False  ...           False           False             True   \n",
      "4             True  ...            True           False             True   \n",
      "\n",
      "   Style_Tote  Color_Black  Color_Blue  Color_Gray  Color_Green  Color_Pink  \\\n",
      "0        True         True       False       False        False       False   \n",
      "1       False        False       False       False         True       False   \n",
      "2       False        False       False       False        False       False   \n",
      "3       False        False       False       False         True       False   \n",
      "4       False        False       False       False         True       False   \n",
      "\n",
      "   Color_Red  \n",
      "0      False  \n",
      "1      False  \n",
      "2       True  \n",
      "3      False  \n",
      "4      False  \n",
      "\n",
      "[5 rows x 29 columns]\n"
     ]
    }
   ],
   "source": [
    "# カテゴリカルデータのワンホットエンコーディング\n",
    "train_df = pd.get_dummies(train_df, columns=categorical_features)\n",
    "test_df = pd.get_dummies(test_df, columns=categorical_features)\n",
    "print(\"Train Data after One-Hot Encoding:\")\n",
    "print(train_df.head())"
   ]
  },
  {
   "cell_type": "code",
   "execution_count": 9,
   "id": "b56e33b5",
   "metadata": {
    "execution": {
     "iopub.execute_input": "2025-02-25T19:36:29.486527Z",
     "iopub.status.busy": "2025-02-25T19:36:29.485981Z",
     "iopub.status.idle": "2025-02-25T19:36:29.527009Z",
     "shell.execute_reply": "2025-02-25T19:36:29.525726Z"
    },
    "papermill": {
     "duration": 0.048567,
     "end_time": "2025-02-25T19:36:29.528819",
     "exception": false,
     "start_time": "2025-02-25T19:36:29.480252",
     "status": "completed"
    },
    "tags": []
   },
   "outputs": [
    {
     "name": "stdout",
     "output_type": "stream",
     "text": [
      "Aligned Train Data:\n",
      "    id  Compartments  Weight Capacity (kg)      Price  Brand_Adidas  \\\n",
      "0  0.0           7.0             11.611723  112.15875         False   \n",
      "1  1.0          10.0             27.078537   68.88056         False   \n",
      "2  2.0           2.0             16.643760   39.17320         False   \n",
      "3  3.0           8.0             12.937220   80.60793         False   \n",
      "4  4.0           1.0             17.749338   86.02312          True   \n",
      "\n",
      "   Brand_Jansport  Brand_Nike  Brand_Puma  Brand_Under Armour  \\\n",
      "0            True       False       False               False   \n",
      "1            True       False       False               False   \n",
      "2           False       False       False                True   \n",
      "3           False        True       False               False   \n",
      "4           False       False       False               False   \n",
      "\n",
      "   Material_Canvas  ...  Waterproof_Yes  Style_Backpack  Style_Messenger  \\\n",
      "0            False  ...           False           False            False   \n",
      "1             True  ...            True           False             True   \n",
      "2            False  ...           False           False             True   \n",
      "3            False  ...           False           False             True   \n",
      "4             True  ...            True           False             True   \n",
      "\n",
      "   Style_Tote  Color_Black  Color_Blue  Color_Gray  Color_Green  Color_Pink  \\\n",
      "0        True         True       False       False        False       False   \n",
      "1       False        False       False       False         True       False   \n",
      "2       False        False       False       False        False       False   \n",
      "3       False        False       False       False         True       False   \n",
      "4       False        False       False       False         True       False   \n",
      "\n",
      "   Color_Red  \n",
      "0      False  \n",
      "1      False  \n",
      "2       True  \n",
      "3      False  \n",
      "4      False  \n",
      "\n",
      "[5 rows x 29 columns]\n",
      "Aligned Test Data:\n",
      "         id  Compartments  Weight Capacity (kg)  Price  Brand_Adidas  \\\n",
      "0  300000.0           2.0             20.671147      0         False   \n",
      "1  300001.0           7.0             13.564105      0         False   \n",
      "2  300002.0           9.0             11.809799      0          True   \n",
      "3  300003.0           1.0             18.477036      0          True   \n",
      "4  300004.0           2.0              9.907953      0         False   \n",
      "\n",
      "   Brand_Jansport  Brand_Nike  Brand_Puma  Brand_Under Armour  \\\n",
      "0           False       False        True               False   \n",
      "1           False        True       False               False   \n",
      "2           False       False       False               False   \n",
      "3           False       False       False               False   \n",
      "4           False       False       False               False   \n",
      "\n",
      "   Material_Canvas  ...  Waterproof_Yes  Style_Backpack  Style_Messenger  \\\n",
      "0            False  ...           False           False            False   \n",
      "1             True  ...            True            True            False   \n",
      "2             True  ...            True           False             True   \n",
      "3            False  ...           False           False             True   \n",
      "4            False  ...            True           False            False   \n",
      "\n",
      "   Style_Tote  Color_Black  Color_Blue  Color_Gray  Color_Green  Color_Pink  \\\n",
      "0        True        False       False       False         True       False   \n",
      "1       False        False       False       False         True       False   \n",
      "2       False        False        True       False        False       False   \n",
      "3       False        False       False       False         True       False   \n",
      "4        True         True       False       False        False       False   \n",
      "\n",
      "   Color_Red  \n",
      "0      False  \n",
      "1      False  \n",
      "2      False  \n",
      "3      False  \n",
      "4      False  \n",
      "\n",
      "[5 rows x 29 columns]\n"
     ]
    }
   ],
   "source": [
    "# train_df と test_df の列を揃える\n",
    "train_df, test_df = train_df.align(test_df, join='left', axis=1, fill_value=0)\n",
    "print(\"Aligned Train Data:\")\n",
    "print(train_df.head())\n",
    "print(\"Aligned Test Data:\")\n",
    "print(test_df.head())"
   ]
  },
  {
   "cell_type": "code",
   "execution_count": 10,
   "id": "acf05ca2",
   "metadata": {
    "execution": {
     "iopub.execute_input": "2025-02-25T19:36:29.539996Z",
     "iopub.status.busy": "2025-02-25T19:36:29.539619Z",
     "iopub.status.idle": "2025-02-25T19:36:29.557433Z",
     "shell.execute_reply": "2025-02-25T19:36:29.556261Z"
    },
    "papermill": {
     "duration": 0.02574,
     "end_time": "2025-02-25T19:36:29.559532",
     "exception": false,
     "start_time": "2025-02-25T19:36:29.533792",
     "status": "completed"
    },
    "tags": []
   },
   "outputs": [],
   "source": [
    "# 特徴量とターゲットの分離\n",
    "X = train_df.drop('Price', axis=1)\n",
    "y = train_df['Price']"
   ]
  },
  {
   "cell_type": "code",
   "execution_count": 11,
   "id": "673345dd",
   "metadata": {
    "execution": {
     "iopub.execute_input": "2025-02-25T19:36:29.571175Z",
     "iopub.status.busy": "2025-02-25T19:36:29.570819Z",
     "iopub.status.idle": "2025-02-25T19:36:29.622026Z",
     "shell.execute_reply": "2025-02-25T19:36:29.620878Z"
    },
    "papermill": {
     "duration": 0.05928,
     "end_time": "2025-02-25T19:36:29.623908",
     "exception": false,
     "start_time": "2025-02-25T19:36:29.564628",
     "status": "completed"
    },
    "tags": []
   },
   "outputs": [
    {
     "name": "stdout",
     "output_type": "stream",
     "text": [
      "Training and Validation Data Shapes:\n",
      "(240000, 28) (60000, 28) (240000,) (60000,)\n"
     ]
    }
   ],
   "source": [
    "# 訓練データとテストデータの分割\n",
    "X_train, X_val, y_train, y_val = train_test_split(X, y, test_size=0.2, random_state=42)\n",
    "print(\"Training and Validation Data Shapes:\")\n",
    "print(X_train.shape, X_val.shape, y_train.shape, y_val.shape)"
   ]
  },
  {
   "cell_type": "code",
   "execution_count": 12,
   "id": "fd0c7669",
   "metadata": {
    "execution": {
     "iopub.execute_input": "2025-02-25T19:36:29.635776Z",
     "iopub.status.busy": "2025-02-25T19:36:29.635420Z",
     "iopub.status.idle": "2025-02-25T19:36:29.639874Z",
     "shell.execute_reply": "2025-02-25T19:36:29.638750Z"
    },
    "papermill": {
     "duration": 0.012517,
     "end_time": "2025-02-25T19:36:29.641887",
     "exception": false,
     "start_time": "2025-02-25T19:36:29.629370",
     "status": "completed"
    },
    "tags": []
   },
   "outputs": [],
   "source": [
    "# モデルの構築\n",
    "model = RandomForestRegressor(n_estimators=100, random_state=42)"
   ]
  },
  {
   "cell_type": "code",
   "execution_count": 13,
   "id": "f325ca4d",
   "metadata": {
    "execution": {
     "iopub.execute_input": "2025-02-25T19:36:29.653756Z",
     "iopub.status.busy": "2025-02-25T19:36:29.653395Z",
     "iopub.status.idle": "2025-02-25T19:41:41.124731Z",
     "shell.execute_reply": "2025-02-25T19:41:41.123585Z"
    },
    "papermill": {
     "duration": 311.484335,
     "end_time": "2025-02-25T19:41:41.131734",
     "exception": false,
     "start_time": "2025-02-25T19:36:29.647399",
     "status": "completed"
    },
    "tags": []
   },
   "outputs": [
    {
     "data": {
      "text/html": [
       "<style>#sk-container-id-1 {color: black;background-color: white;}#sk-container-id-1 pre{padding: 0;}#sk-container-id-1 div.sk-toggleable {background-color: white;}#sk-container-id-1 label.sk-toggleable__label {cursor: pointer;display: block;width: 100%;margin-bottom: 0;padding: 0.3em;box-sizing: border-box;text-align: center;}#sk-container-id-1 label.sk-toggleable__label-arrow:before {content: \"▸\";float: left;margin-right: 0.25em;color: #696969;}#sk-container-id-1 label.sk-toggleable__label-arrow:hover:before {color: black;}#sk-container-id-1 div.sk-estimator:hover label.sk-toggleable__label-arrow:before {color: black;}#sk-container-id-1 div.sk-toggleable__content {max-height: 0;max-width: 0;overflow: hidden;text-align: left;background-color: #f0f8ff;}#sk-container-id-1 div.sk-toggleable__content pre {margin: 0.2em;color: black;border-radius: 0.25em;background-color: #f0f8ff;}#sk-container-id-1 input.sk-toggleable__control:checked~div.sk-toggleable__content {max-height: 200px;max-width: 100%;overflow: auto;}#sk-container-id-1 input.sk-toggleable__control:checked~label.sk-toggleable__label-arrow:before {content: \"▾\";}#sk-container-id-1 div.sk-estimator input.sk-toggleable__control:checked~label.sk-toggleable__label {background-color: #d4ebff;}#sk-container-id-1 div.sk-label input.sk-toggleable__control:checked~label.sk-toggleable__label {background-color: #d4ebff;}#sk-container-id-1 input.sk-hidden--visually {border: 0;clip: rect(1px 1px 1px 1px);clip: rect(1px, 1px, 1px, 1px);height: 1px;margin: -1px;overflow: hidden;padding: 0;position: absolute;width: 1px;}#sk-container-id-1 div.sk-estimator {font-family: monospace;background-color: #f0f8ff;border: 1px dotted black;border-radius: 0.25em;box-sizing: border-box;margin-bottom: 0.5em;}#sk-container-id-1 div.sk-estimator:hover {background-color: #d4ebff;}#sk-container-id-1 div.sk-parallel-item::after {content: \"\";width: 100%;border-bottom: 1px solid gray;flex-grow: 1;}#sk-container-id-1 div.sk-label:hover label.sk-toggleable__label {background-color: #d4ebff;}#sk-container-id-1 div.sk-serial::before {content: \"\";position: absolute;border-left: 1px solid gray;box-sizing: border-box;top: 0;bottom: 0;left: 50%;z-index: 0;}#sk-container-id-1 div.sk-serial {display: flex;flex-direction: column;align-items: center;background-color: white;padding-right: 0.2em;padding-left: 0.2em;position: relative;}#sk-container-id-1 div.sk-item {position: relative;z-index: 1;}#sk-container-id-1 div.sk-parallel {display: flex;align-items: stretch;justify-content: center;background-color: white;position: relative;}#sk-container-id-1 div.sk-item::before, #sk-container-id-1 div.sk-parallel-item::before {content: \"\";position: absolute;border-left: 1px solid gray;box-sizing: border-box;top: 0;bottom: 0;left: 50%;z-index: -1;}#sk-container-id-1 div.sk-parallel-item {display: flex;flex-direction: column;z-index: 1;position: relative;background-color: white;}#sk-container-id-1 div.sk-parallel-item:first-child::after {align-self: flex-end;width: 50%;}#sk-container-id-1 div.sk-parallel-item:last-child::after {align-self: flex-start;width: 50%;}#sk-container-id-1 div.sk-parallel-item:only-child::after {width: 0;}#sk-container-id-1 div.sk-dashed-wrapped {border: 1px dashed gray;margin: 0 0.4em 0.5em 0.4em;box-sizing: border-box;padding-bottom: 0.4em;background-color: white;}#sk-container-id-1 div.sk-label label {font-family: monospace;font-weight: bold;display: inline-block;line-height: 1.2em;}#sk-container-id-1 div.sk-label-container {text-align: center;}#sk-container-id-1 div.sk-container {/* jupyter's `normalize.less` sets `[hidden] { display: none; }` but bootstrap.min.css set `[hidden] { display: none !important; }` so we also need the `!important` here to be able to override the default hidden behavior on the sphinx rendered scikit-learn.org. See: https://github.com/scikit-learn/scikit-learn/issues/21755 */display: inline-block !important;position: relative;}#sk-container-id-1 div.sk-text-repr-fallback {display: none;}</style><div id=\"sk-container-id-1\" class=\"sk-top-container\"><div class=\"sk-text-repr-fallback\"><pre>RandomForestRegressor(random_state=42)</pre><b>In a Jupyter environment, please rerun this cell to show the HTML representation or trust the notebook. <br />On GitHub, the HTML representation is unable to render, please try loading this page with nbviewer.org.</b></div><div class=\"sk-container\" hidden><div class=\"sk-item\"><div class=\"sk-estimator sk-toggleable\"><input class=\"sk-toggleable__control sk-hidden--visually\" id=\"sk-estimator-id-1\" type=\"checkbox\" checked><label for=\"sk-estimator-id-1\" class=\"sk-toggleable__label sk-toggleable__label-arrow\">RandomForestRegressor</label><div class=\"sk-toggleable__content\"><pre>RandomForestRegressor(random_state=42)</pre></div></div></div></div></div>"
      ],
      "text/plain": [
       "RandomForestRegressor(random_state=42)"
      ]
     },
     "execution_count": 13,
     "metadata": {},
     "output_type": "execute_result"
    }
   ],
   "source": [
    "# モデルのトレーニング\n",
    "model.fit(X_train, y_train)"
   ]
  },
  {
   "cell_type": "code",
   "execution_count": 14,
   "id": "c75e6232",
   "metadata": {
    "execution": {
     "iopub.execute_input": "2025-02-25T19:41:41.143387Z",
     "iopub.status.busy": "2025-02-25T19:41:41.142984Z",
     "iopub.status.idle": "2025-02-25T19:41:45.812613Z",
     "shell.execute_reply": "2025-02-25T19:41:45.811652Z"
    },
    "papermill": {
     "duration": 4.677734,
     "end_time": "2025-02-25T19:41:45.814653",
     "exception": false,
     "start_time": "2025-02-25T19:41:41.136919",
     "status": "completed"
    },
    "tags": []
   },
   "outputs": [],
   "source": [
    "# 予測の実行\n",
    "y_pred = model.predict(X_val)"
   ]
  },
  {
   "cell_type": "code",
   "execution_count": 15,
   "id": "79f6e223",
   "metadata": {
    "execution": {
     "iopub.execute_input": "2025-02-25T19:41:45.827787Z",
     "iopub.status.busy": "2025-02-25T19:41:45.827363Z",
     "iopub.status.idle": "2025-02-25T19:41:45.842995Z",
     "shell.execute_reply": "2025-02-25T19:41:45.841688Z"
    },
    "papermill": {
     "duration": 0.02467,
     "end_time": "2025-02-25T19:41:45.845066",
     "exception": false,
     "start_time": "2025-02-25T19:41:45.820396",
     "status": "completed"
    },
    "tags": []
   },
   "outputs": [
    {
     "name": "stdout",
     "output_type": "stream",
     "text": [
      "Mean Squared Error: 1562.7838038845634\n"
     ]
    }
   ],
   "source": [
    "# 評価指標の計算\n",
    "mse = mean_squared_error(y_val, y_pred)\n",
    "print(f'Mean Squared Error: {mse}')"
   ]
  },
  {
   "cell_type": "code",
   "execution_count": 16,
   "id": "84792779",
   "metadata": {
    "execution": {
     "iopub.execute_input": "2025-02-25T19:41:45.857160Z",
     "iopub.status.busy": "2025-02-25T19:41:45.856665Z",
     "iopub.status.idle": "2025-02-25T19:41:50.314257Z",
     "shell.execute_reply": "2025-02-25T19:41:50.312973Z"
    },
    "papermill": {
     "duration": 4.465884,
     "end_time": "2025-02-25T19:41:50.316280",
     "exception": false,
     "start_time": "2025-02-25T19:41:45.850396",
     "status": "completed"
    },
    "tags": []
   },
   "outputs": [],
   "source": [
    "# テストデータに対する予測\n",
    "test_pred = model.predict(test_df.drop('Price', axis=1, errors='ignore'))"
   ]
  },
  {
   "cell_type": "code",
   "execution_count": 17,
   "id": "c1cffaeb",
   "metadata": {
    "execution": {
     "iopub.execute_input": "2025-02-25T19:41:50.328619Z",
     "iopub.status.busy": "2025-02-25T19:41:50.328222Z",
     "iopub.status.idle": "2025-02-25T19:41:50.818560Z",
     "shell.execute_reply": "2025-02-25T19:41:50.817353Z"
    },
    "papermill": {
     "duration": 0.498566,
     "end_time": "2025-02-25T19:41:50.820644",
     "exception": false,
     "start_time": "2025-02-25T19:41:50.322078",
     "status": "completed"
    },
    "tags": []
   },
   "outputs": [],
   "source": [
    "# 結果の保存\n",
    "submission = pd.DataFrame({'id': test_df['id'], 'Price': test_pred})\n",
    "submission.to_csv('submission.csv', index=False)"
   ]
  },
  {
   "cell_type": "code",
   "execution_count": 18,
   "id": "082bd163",
   "metadata": {
    "execution": {
     "iopub.execute_input": "2025-02-25T19:41:50.833002Z",
     "iopub.status.busy": "2025-02-25T19:41:50.832573Z",
     "iopub.status.idle": "2025-02-25T19:41:50.841504Z",
     "shell.execute_reply": "2025-02-25T19:41:50.840354Z"
    },
    "papermill": {
     "duration": 0.016748,
     "end_time": "2025-02-25T19:41:50.843135",
     "exception": false,
     "start_time": "2025-02-25T19:41:50.826387",
     "status": "completed"
    },
    "tags": []
   },
   "outputs": [
    {
     "name": "stdout",
     "output_type": "stream",
     "text": [
      "First and Last 6 rows of the submission file:\n",
      "              id      Price\n",
      "0       300000.0  87.345029\n",
      "1       300001.0  87.440523\n",
      "2       300002.0  97.510579\n",
      "3       300003.0  83.585873\n",
      "4       300004.0  76.720012\n",
      "5       300005.0  87.142592\n",
      "199994  499994.0  75.330072\n",
      "199995  499995.0  89.036235\n",
      "199996  499996.0  82.112442\n",
      "199997  499997.0  83.490923\n",
      "199998  499998.0  86.697409\n",
      "199999  499999.0  73.119162\n"
     ]
    }
   ],
   "source": [
    "# 出力ファイルの表示\n",
    "print(\"First and Last 6 rows of the submission file:\")\n",
    "print(pd.concat([submission.head(6), submission.tail(6)]))"
   ]
  }
 ],
 "metadata": {
  "kaggle": {
   "accelerator": "none",
   "dataSources": [
    {
     "databundleVersionId": 10995111,
     "sourceId": 90274,
     "sourceType": "competition"
    }
   ],
   "dockerImageVersionId": 30918,
   "isGpuEnabled": false,
   "isInternetEnabled": true,
   "language": "python",
   "sourceType": "notebook"
  },
  "kernelspec": {
   "display_name": "Python 3",
   "language": "python",
   "name": "python3"
  },
  "language_info": {
   "codemirror_mode": {
    "name": "ipython",
    "version": 3
   },
   "file_extension": ".py",
   "mimetype": "text/x-python",
   "name": "python",
   "nbconvert_exporter": "python",
   "pygments_lexer": "ipython3",
   "version": "3.10.12"
  },
  "papermill": {
   "default_parameters": {},
   "duration": 330.891509,
   "end_time": "2025-02-25T19:41:51.870447",
   "environment_variables": {},
   "exception": null,
   "input_path": "__notebook__.ipynb",
   "output_path": "__notebook__.ipynb",
   "parameters": {},
   "start_time": "2025-02-25T19:36:20.978938",
   "version": "2.6.0"
  }
 },
 "nbformat": 4,
 "nbformat_minor": 5
}
