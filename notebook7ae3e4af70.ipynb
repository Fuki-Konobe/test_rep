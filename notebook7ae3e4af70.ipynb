{
 "cells": [
  {
   "cell_type": "code",
   "execution_count": 1,
   "id": "28a03bec",
   "metadata": {
    "_cell_guid": "b1076dfc-b9ad-4769-8c92-a6c4dae69d19",
    "_uuid": "8f2839f25d086af736a60e9eeb907d3b93b6e0e5",
    "execution": {
     "iopub.execute_input": "2025-02-25T18:58:15.306955Z",
     "iopub.status.busy": "2025-02-25T18:58:15.306636Z",
     "iopub.status.idle": "2025-02-25T18:58:16.161183Z",
     "shell.execute_reply": "2025-02-25T18:58:16.159884Z"
    },
    "papermill": {
     "duration": 0.859202,
     "end_time": "2025-02-25T18:58:16.162774",
     "exception": false,
     "start_time": "2025-02-25T18:58:15.303572",
     "status": "completed"
    },
    "tags": []
   },
   "outputs": [
    {
     "name": "stdout",
     "output_type": "stream",
     "text": [
      "/kaggle/input/playground-series-s5e2/sample_submission.csv\n",
      "/kaggle/input/playground-series-s5e2/train.csv\n",
      "/kaggle/input/playground-series-s5e2/test.csv\n",
      "/kaggle/input/playground-series-s5e2/training_extra.csv\n"
     ]
    }
   ],
   "source": [
    "# This Python 3 environment comes with many helpful analytics libraries installed\n",
    "# It is defined by the kaggle/python Docker image: https://github.com/kaggle/docker-python\n",
    "# For example, here's several helpful packages to load\n",
    "\n",
    "import numpy as np # linear algebra\n",
    "import pandas as pd # data processing, CSV file I/O (e.g. pd.read_csv)\n",
    "\n",
    "# Input data files are available in the read-only \"../input/\" directory\n",
    "# For example, running this (by clicking run or pressing Shift+Enter) will list all files under the input directory\n",
    "\n",
    "import os\n",
    "for dirname, _, filenames in os.walk('/kaggle/input'):\n",
    "    for filename in filenames:\n",
    "        print(os.path.join(dirname, filename))\n",
    "\n",
    "# You can write up to 20GB to the current directory (/kaggle/working/) that gets preserved as output when you create a version using \"Save & Run All\" \n",
    "# You can also write temporary files to /kaggle/temp/, but they won't be saved outside of the current session"
   ]
  },
  {
   "cell_type": "code",
   "execution_count": 2,
   "id": "44f7d654",
   "metadata": {
    "execution": {
     "iopub.execute_input": "2025-02-25T18:58:16.167152Z",
     "iopub.status.busy": "2025-02-25T18:58:16.166688Z",
     "iopub.status.idle": "2025-02-25T19:02:13.306972Z",
     "shell.execute_reply": "2025-02-25T19:02:13.305795Z"
    },
    "papermill": {
     "duration": 237.143853,
     "end_time": "2025-02-25T19:02:13.308433",
     "exception": false,
     "start_time": "2025-02-25T18:58:16.164580",
     "status": "completed"
    },
    "tags": []
   },
   "outputs": [
    {
     "name": "stdout",
     "output_type": "stream",
     "text": [
      "id                         0\n",
      "Brand                   9705\n",
      "Material                8347\n",
      "Size                    6595\n",
      "Compartments               0\n",
      "Laptop Compartment      7444\n",
      "Waterproof              7050\n",
      "Style                   7970\n",
      "Color                   9950\n",
      "Weight Capacity (kg)     138\n",
      "Price                      0\n",
      "dtype: int64\n",
      "Mean Squared Error: 1562.7838038845634\n",
      "First 6 rows of the submission file:\n",
      "         id      Price\n",
      "0  300000.0  87.345029\n",
      "1  300001.0  87.440523\n",
      "2  300002.0  97.510579\n",
      "3  300003.0  83.585873\n",
      "4  300004.0  76.720012\n",
      "5  300005.0  87.142592\n",
      "Last 6 rows of the submission file:\n",
      "              id      Price\n",
      "199994  499994.0  75.330072\n",
      "199995  499995.0  89.036235\n",
      "199996  499996.0  82.112442\n",
      "199997  499997.0  83.490923\n",
      "199998  499998.0  86.697409\n",
      "199999  499999.0  73.119162\n"
     ]
    }
   ],
   "source": [
    "# ライブラリのインポート\n",
    "import pandas as pd\n",
    "from sklearn.model_selection import train_test_split\n",
    "from sklearn.ensemble import RandomForestRegressor\n",
    "from sklearn.metrics import mean_squared_error\n",
    "from sklearn.impute import SimpleImputer\n",
    "\n",
    "# データの読み込み\n",
    "train_df = pd.read_csv('/kaggle/input/playground-series-s5e2/train.csv')\n",
    "test_df = pd.read_csv('/kaggle/input/playground-series-s5e2/test.csv')\n",
    "\n",
    "# 欠損値の確認\n",
    "print(train_df.isnull().sum())\n",
    "\n",
    "# 数値データとカテゴリカルデータの分離\n",
    "numeric_features = train_df.select_dtypes(include=['int64', 'float64']).columns\n",
    "categorical_features = train_df.select_dtypes(include=['object']).columns\n",
    "\n",
    "# 'Price' 列を numeric_features から除外\n",
    "numeric_features = numeric_features.drop('Price')\n",
    "\n",
    "# 数値データの欠損値処理\n",
    "imputer = SimpleImputer(strategy='mean')\n",
    "train_df[numeric_features] = imputer.fit_transform(train_df[numeric_features])\n",
    "test_df[numeric_features] = imputer.transform(test_df[numeric_features])\n",
    "\n",
    "# カテゴリカルデータのワンホットエンコーディング\n",
    "train_df = pd.get_dummies(train_df, columns=categorical_features)\n",
    "test_df = pd.get_dummies(test_df, columns=categorical_features)\n",
    "\n",
    "# train_df と test_df の列を揃える\n",
    "train_df, test_df = train_df.align(test_df, join='left', axis=1, fill_value=0)\n",
    "\n",
    "# 特徴量とターゲットの分離\n",
    "X = train_df.drop('Price', axis=1)\n",
    "y = train_df['Price']\n",
    "\n",
    "# 訓練データとテストデータの分割\n",
    "X_train, X_val, y_train, y_val = train_test_split(X, y, test_size=0.2, random_state=42)\n",
    "\n",
    "# モデルの構築\n",
    "model = RandomForestRegressor(n_estimators=100, random_state=42)\n",
    "\n",
    "# モデルのトレーニング\n",
    "model.fit(X_train, y_train)\n",
    "\n",
    "# 予測の実行\n",
    "y_pred = model.predict(X_val)\n",
    "\n",
    "# 評価指標の計算\n",
    "mse = mean_squared_error(y_val, y_pred)\n",
    "print(f'Mean Squared Error: {mse}')\n",
    "\n",
    "# テストデータに対する予測\n",
    "test_pred = model.predict(test_df.drop('Price', axis=1, errors='ignore'))\n",
    "\n",
    "# 結果の保存\n",
    "submission = pd.DataFrame({'id': test_df['id'], 'Price': test_pred})\n",
    "submission.to_csv('submission.csv', index=False)\n",
    "\n",
    "# 出力ファイルの最初と最後の6行を表示\n",
    "print(\"First 6 rows of the submission file:\")\n",
    "print(submission.head(6))\n",
    "\n",
    "print(\"Last 6 rows of the submission file:\")\n",
    "print(submission.tail(6))\n",
    "\n"
   ]
  },
  {
   "cell_type": "markdown",
   "id": "b7aa1af6",
   "metadata": {
    "papermill": {
     "duration": 0.001316,
     "end_time": "2025-02-25T19:02:13.311595",
     "exception": false,
     "start_time": "2025-02-25T19:02:13.310279",
     "status": "completed"
    },
    "tags": []
   },
   "source": []
  }
 ],
 "metadata": {
  "kaggle": {
   "accelerator": "none",
   "dataSources": [
    {
     "databundleVersionId": 10995111,
     "sourceId": 90274,
     "sourceType": "competition"
    }
   ],
   "dockerImageVersionId": 30918,
   "isGpuEnabled": false,
   "isInternetEnabled": true,
   "language": "python",
   "sourceType": "notebook"
  },
  "kernelspec": {
   "display_name": "Python 3",
   "language": "python",
   "name": "python3"
  },
  "language_info": {
   "codemirror_mode": {
    "name": "ipython",
    "version": 3
   },
   "file_extension": ".py",
   "mimetype": "text/x-python",
   "name": "python",
   "nbconvert_exporter": "python",
   "pygments_lexer": "ipython3",
   "version": "3.10.12"
  },
  "papermill": {
   "default_parameters": {},
   "duration": 241.036476,
   "end_time": "2025-02-25T19:02:14.233974",
   "environment_variables": {},
   "exception": null,
   "input_path": "__notebook__.ipynb",
   "output_path": "__notebook__.ipynb",
   "parameters": {},
   "start_time": "2025-02-25T18:58:13.197498",
   "version": "2.6.0"
  }
 },
 "nbformat": 4,
 "nbformat_minor": 5
}
